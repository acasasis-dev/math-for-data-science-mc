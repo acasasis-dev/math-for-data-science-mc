{
 "cells": [
  {
   "cell_type": "markdown",
   "id": "2ad4a8ef",
   "metadata": {},
   "source": [
    "## Exercise 3: Conditional Property"
   ]
  },
  {
   "cell_type": "markdown",
   "id": "697c2870",
   "metadata": {},
   "source": [
    "> 1. A fair coin is tossed twice. What is the probability that the second toss is heads, given that the first toss is heads?\n",
    "\n",
    "\\begin{gather*}\n",
    "    S = \\{HH, HT, TH, TT\\} \\\\\n",
    "    P(B) = \\{HH\\} = \\frac{1}{4} \\\\\n",
    "    P(A) = \\{HH, HT\\} = \\frac{2}{4} \\\\\n",
    "    P(A \\cap B) = \\{HH\\} = \\frac{1}{4} \\\\\n",
    "    P(A | B) = \\frac{\\frac{1}{4}}{\\frac{2}{4}} \\\\\n",
    "    P(A | B) = \\frac{1}{4} \\cdot \\frac{4}{2} \\\\\n",
    "    \\boxed{P(A | B) = \\frac{1}{2}}\n",
    "\\end{gather*}"
   ]
  },
  {
   "cell_type": "markdown",
   "id": "1cd02892",
   "metadata": {},
   "source": [
    "> 2. A die is rolled once. What is the probability that the outcome is greater than $4$, given that it is even?\n",
    "\n",
    "\\begin{gather*}\n",
    "    P(A) = \\{5, 6\\} = \\frac{2}{6} \\\\\n",
    "    P(B) = \\{2, 4, 6\\} = \\frac{3}{6} \\\\\n",
    "    P(A \\cap B) = \\{6\\} = \\frac{1}{6} \\\\\n",
    "    P(A | B) = \\frac{\\frac{1}{6}}{\\frac{1}{2}} \\\\\n",
    "    P(A | B) = \\frac{1}{6} \\cdot \\frac{2}{1} \\\\\n",
    "    P(A | B) = \\frac{2}{6} \\\\\n",
    "    \\boxed{P(A | B) = \\frac{1}{3}}\n",
    "\\end{gather*}"
   ]
  },
  {
   "cell_type": "markdown",
   "id": "710e26c6",
   "metadata": {},
   "source": [
    "> 3. One card is drawn from a standard $52$ -card deck. What is the probability that it is a king, given that it is a face card (J, Q, K)?\n",
    "\n",
    "\\begin{gather*}\n",
    "    P(A) = \\frac{4}{52} \\\\\n",
    "    P(B) = \\frac{12}{52} \\\\\n",
    "    P(A \\cap B) = \\frac{4}{52} \\\\\n",
    "    P(A | B) = \\frac{\\frac{4}{52}}{\\frac{12}{52}} \\\\\n",
    "    P(A | B) = \\frac{4}{52} \\cdot \\frac{52}{12} \\\\\n",
    "    P(A | B) = \\frac{208}{624} \\\\\n",
    "    P(A | B) = \\frac{13}{39} \\\\\n",
    "    \\boxed{P(A | B) = \\frac{1}{3}}\n",
    "\\end{gather*}"
   ]
  },
  {
   "cell_type": "markdown",
   "id": "6e1fe07d",
   "metadata": {},
   "source": [
    "> 4. In a class of $40$ students:\n",
    "- $25$ are male\n",
    "- $15$ are female\n",
    "- $10$ students are left-handed ($6$ male, $4$ female)  \n",
    "  \n",
    "If a randomly chosen student is left-handed, what is the probability the student is female?\n",
    "\n",
    "\\begin{gather*}\n",
    "    P = \\frac{4}{10} \\\\\n",
    "    \\boxed{P = 40\\%}\n",
    "\\end{gather*}"
   ]
  },
  {
   "cell_type": "markdown",
   "id": "c5252f86",
   "metadata": {},
   "source": [
    "> 5. A bag contains $5$ red and $7$ blue marbles. One marble is drawn at random. What is the probability it is red, given that it is **not blue**?\n",
    "\n",
    "\\begin{gather*}\n",
    "    P(B) = \\frac{5}{12} \\\\\n",
    "    P(A) = \\frac{5}{12} \\\\\n",
    "    P(A \\cap B) = \\frac{5}{12} \\\\\n",
    "    P(A | B) = \\frac{\\frac{5}{12}}{\\frac{5}{12}} \\\\\n",
    "    P(A | B) = \\frac{5}{12} \\cdot \\frac{5}{12} \\\\\n",
    "    \\boxed{P(A | B) = 1}\n",
    "\\end{gather*}"
   ]
  },
  {
   "cell_type": "markdown",
   "id": "20483683",
   "metadata": {},
   "source": [
    "> 6. Two dice are rolled. What is the probability that the total is $10$, given that the first die shows a $5$?\n",
    "\n",
    "\\begin{gather*}\n",
    "    P(B) = \\frac{6}{21} \\\\\n",
    "    P(A) = \\frac{2}{21} \\\\\n",
    "    P(A \\cap B) = \\frac{1}{21} \\\\\n",
    "    P(A | B) = \\frac{\\frac{1}{21}}{\\frac{6}{21}} \\\\\n",
    "    P(A | B) = \\frac{1}{21} \\cdot \\frac{21}{6} \\\\\n",
    "    P(A | B) = \\frac{21}{126} \\\\\n",
    "    P(A | B) = \\frac{1}{6} \\\\\n",
    "    \\boxed{P(A | B) = 17\\%}\n",
    "\\end{gather*}"
   ]
  },
  {
   "cell_type": "markdown",
   "id": "11aa28a9",
   "metadata": {},
   "source": [
    "> 7. One card is drawn at random from a standard deck. What is the probability that it is a heart, given that it is red?\n",
    "\n",
    "\\begin{gather*}\n",
    "    P(B) = \\frac{26}{52} \\\\\n",
    "    P(A) = \\frac{13}{52} \\\\\n",
    "    P(A \\cap B) = \\frac{13}{52} \\\\\n",
    "    P(A | B) = \\frac{\\frac{1}{4}}{\\frac{1}{2}} \\\\\n",
    "    P(A | B) = \\frac{1}{4} \\cdot \\frac{2}{1} \\\\\n",
    "    P(A | B) = \\frac{2}{4} \\\\\n",
    "    P(A | B) = \\frac{1}{2} \\\\\n",
    "    \\boxed{P(A | B) = 50\\%}\n",
    "\\end{gather*}"
   ]
  },
  {
   "cell_type": "markdown",
   "id": "0c01b175",
   "metadata": {},
   "source": [
    "> 8. Let $A = $ \"rolling an even number\" and $B = $ \"rolling a number greater than 3\" when a single die is rolled. Find $P(A | B)$.\n",
    "\n",
    "\\begin{gather*}\n",
    "    P(B) = \\frac{3}{6} \\\\\n",
    "    P(A) = \\frac{3}{6} \\\\\n",
    "    P(A \\cap B) = \\frac{2}{6} \\\\\n",
    "    P(A | B) = \\frac{\\frac{2}{6}}{\\frac{3}{6}} \\\\\n",
    "    P(A | B) = \\frac{2}{6} \\cdot \\frac{6}{3} \\\\\n",
    "    P(A | B) = \\frac{12}{18} \\\\\n",
    "    P(A | B) = \\frac{2}{3} \\\\\n",
    "    \\boxed{P(A | B) = 67\\%}\n",
    "\\end{gather*}"
   ]
  },
  {
   "cell_type": "markdown",
   "id": "c5089c32",
   "metadata": {},
   "source": [
    "> 9. A box contains $12$ pens: $7$ black and $5$ blue. Two pens are drawn **with replacement**.\n",
    "\n",
    "What is the probability that the second pen is blue, **given that the first pen was black**?\n",
    "\n",
    "\\begin{gather*}\n",
    "    P(A | B) = \\frac{5}{12}\n",
    "\\end{gather*}\n",
    "\n",
    "Event A is independent to event B as the first pen is drawn back."
   ]
  }
 ],
 "metadata": {
  "language_info": {
   "name": "python"
  }
 },
 "nbformat": 4,
 "nbformat_minor": 5
}

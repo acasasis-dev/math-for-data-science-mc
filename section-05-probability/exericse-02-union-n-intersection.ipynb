{
 "cells": [
  {
   "cell_type": "markdown",
   "id": "ef3687bc",
   "metadata": {},
   "source": [
    "## Exercise 2: Probability Union and Intersection"
   ]
  },
  {
   "cell_type": "markdown",
   "id": "c9aff2b6",
   "metadata": {},
   "source": [
    "> 1. A coin is flipped once. What is the probability of getting **heads or tails**?\n",
    "\n",
    "\\begin{gather*}\n",
    "    P(\\text{heads}) = \\frac{1}{2} \\\\\n",
    "    P(\\text{tails}) = \\frac{1}{2} \\\\\n",
    "    P(A \\cap B) = 0 \\\\\n",
    "    P(A \\cup B) = \\frac{1}{2} + \\frac{1}{2} - 0 \\\\\n",
    "    P(A \\cup B) = \\frac{2}{2} \\\\\n",
    "    P(A \\cup B) = 1 \\\\\n",
    "    P(A \\cup B) = 1 \\cdot 100 \\\\\n",
    "    \\boxed{P(A \\cup B) = 100\\%}\n",
    "\\end{gather*}"
   ]
  },
  {
   "cell_type": "markdown",
   "id": "f4fbeba1",
   "metadata": {},
   "source": [
    "> 2. A fair die is rolled once. What is the probability of rolling a **$2$ or a $5$**?\n",
    "\n",
    "\\begin{gather*}\n",
    "    P(2) = \\frac{1}{6} \\\\\n",
    "    P(5) = \\frac{1}{6} \\\\\n",
    "    P(2 \\cap 5) = 0 \\\\\n",
    "    P(2 \\cup 5) = \\frac{1}{6} + \\frac{1}{6} - 0 \\\\\n",
    "    P(2 \\cup 5) = \\frac{2}{6} \\\\\n",
    "    P(2 \\cup 5) = \\frac{1}{3} \\\\\n",
    "    P(2 \\cup 5) = 0.33 \\\\\n",
    "    P(2 \\cup 5) = 0.33 \\cdot 100 \\\\\n",
    "    \\boxed{P(2 \\cup 5) = 33\\%}\n",
    "\\end{gather*}"
   ]
  },
  {
   "cell_type": "markdown",
   "id": "81a78ebf",
   "metadata": {},
   "source": [
    "> 3. A fair die is rolled once. What is the probability of rolling a number that is both **even and greater than $3$**?\n",
    "\n",
    "\\begin{gather*}\n",
    "    P(\\text{even}) = \\frac{3}{6} \\\\\n",
    "    P(> 3) = \\frac{3}{6} \\\\\n",
    "    P(\\text{even} \\cup > 3) = [2, 4, 5, 6] = \\frac{4}{6} \\\\\n",
    "    P(\\text{even} \\cap > 3) = \\frac{3}{6} + \\frac{3}{6} - \\frac{4}{6} \\\\\n",
    "    P(\\text{even} \\cap > 3) = \\frac{6}{6} - \\frac{4}{6} \\\\\n",
    "    P(\\text{even} \\cap > 3) = \\frac{2}{6} \\\\\n",
    "    P(\\text{even} \\cap > 3) = \\frac{1}{3} \\\\\n",
    "    P(\\text{even} \\cap > 3) = 0.33 \\\\\n",
    "    P(\\text{even} \\cap > 3) = 0.33 \\cdot 100 \\\\\n",
    "    \\boxed{P(\\text{even} \\cap > 3) = 33\\%}\n",
    "\\end{gather*}"
   ]
  },
  {
   "cell_type": "markdown",
   "id": "0e275ef7",
   "metadata": {},
   "source": [
    "> 4. From a standard deck of $52$ cards, what is the probability of drawing a card that is a **king or a heart**?\n",
    "\n",
    "\\begin{gather*}\n",
    "    P(\\text{king}) = \\frac{4}{52} \\\\\n",
    "    P(\\text{heart}) = \\frac{13}{52} \\\\\n",
    "    P(\\text{king} \\ \\cap \\ \\text{heart}) = \\frac{1}{52} \\\\\n",
    "    P(\\text{king} \\ \\cup \\ \\text{heart}) = \\frac{4}{52} + \\frac{13}{52} - \\frac{1}{52} \\\\\n",
    "    P(\\text{king} \\ \\cup \\ \\text{heart}) = \\frac{17}{52} - \\frac{1}{52} \\\\\n",
    "    P(\\text{king} \\ \\cup \\ \\text{heart}) = \\frac{16}{52} \\\\\n",
    "    \\boxed{P(\\text{king} \\ \\cup \\ \\text{heart}) = \\frac{4}{13}}\n",
    "\\end{gather*}"
   ]
  },
  {
   "cell_type": "markdown",
   "id": "b0aa756d",
   "metadata": {},
   "source": [
    "> 5. From a standard deck of $52$ cards, what is the probability of drawing a card that is both a **spade and a face card**?\n",
    "\n",
    "\\begin{gather*}\n",
    "    P(\\text{spade}) = \\frac{13}{52} \\\\\n",
    "    P(\\text{face}) = \\frac{12}{52} \\\\\n",
    "    P(\\text{spade} \\ \\cup \\ \\text{face}) = \\frac{22}{52} \\\\\n",
    "    P(\\text{spade} \\ \\cap \\ \\text{face}) = \\frac{13}{52} + \\frac{12}{52} - \\frac{22}{52} \\\\\n",
    "    P(\\text{spade} \\ \\cap \\ \\text{face}) = \\frac{25}{52} - \\frac{22}{52} \\\\\n",
    "    \\boxed{P(\\text{spade} \\ \\cap \\ \\text{face}) = \\frac{3}{52}}\n",
    "\\end{gather*}"
   ]
  },
  {
   "cell_type": "markdown",
   "id": "f83d240e",
   "metadata": {},
   "source": [
    "> 6. A bag contains $4$ red marbles, $3$ blue marbles, and $5$ green marbles. If one marble is drawn at random, what is the probability that it is **red or blue**?\n",
    "\n",
    "\\begin{gather*}\n",
    "    P(\\text{red}) = \\frac{4}{12} \\\\\n",
    "    P(\\text{blue}) = \\frac{3}{12} \\\\\n",
    "    P(\\text{red} \\ \\cap \\ \\text{blue}) = 0 \\\\\n",
    "    P(\\text{red} \\ \\cup \\ \\text{blue}) = \\frac{4}{12} + \\frac{3}{12} - 0 \\\\\n",
    "    \\boxed{P(\\text{red} \\ \\cup \\ \\text{blue}) = \\frac{7}{12}}\n",
    "\\end{gather*}"
   ]
  },
  {
   "cell_type": "markdown",
   "id": "02c6b783",
   "metadata": {},
   "source": [
    "> 7. A bag contains $6$ yellow marbles and $4$ black marbles. What is the probability of drawing a marble that is both **yellow and black**?\n",
    "\n",
    "\\begin{gather*}\n",
    "    P(\\text{yellow}) = \\frac{6}{10} \\\\\n",
    "    P(\\text{black}) = \\frac{4}{10} \\\\\n",
    "    P(\\text{yellow} \\ \\cup \\ \\text{black}) = \\frac{10}{10} \\\\\n",
    "    P(\\text{yellow} \\ \\cap \\ \\text{black}) = \\frac{6}{10} + \\frac{4}{10} - \\frac{10}{10} \\\\\n",
    "    P(\\text{yellow} \\ \\cap \\ \\text{black}) = \\frac{10}{10} - \\frac{10}{10} \\\\\n",
    "    \\boxed{P(\\text{yellow} \\ \\cap \\ \\text{black}) = 0}\n",
    "\\end{gather*}"
   ]
  },
  {
   "cell_type": "markdown",
   "id": "7a3cfc82",
   "metadata": {},
   "source": [
    "> 8. Two dice are rolled. What is the probability that the sum is **$7$ or $11$**?\n",
    "\n",
    "\\begin{gather*}\n",
    "    P(7) = \\frac{6}{36} \\\\\n",
    "    P(11) = \\frac{2}{36} \\\\\n",
    "    P(7 \\cap 11) = 0 \\\\\n",
    "    P(7 \\cup 11) = \\frac{6}{36} + \\frac{2}{36} - 0 \\\\\n",
    "    P(7 \\cup 11) = \\frac{8}{36} \\\\\n",
    "    P(7 \\cup 11) = \\frac{2}{9} \\\\\n",
    "    P(7 \\cup 11) = 0.22 \\\\\n",
    "    P(7 \\cup 11) = 0.22 \\cdot 100 \\\\\n",
    "    \\boxed{P(7 \\cup 11) = 22\\%}\n",
    "\\end{gather*}"
   ]
  },
  {
   "cell_type": "markdown",
   "id": "6370b731",
   "metadata": {},
   "source": [
    "> 9. In a class of $30$ students:\n",
    "\n",
    "- $18$ like football\n",
    "- $12$ like basketball\n",
    "- $6$ like both football and basketball\n",
    "\n",
    "If one student is chosen at random, what is the probability that the student likes **football or basketball**?\n",
    "\n",
    "\\begin{gather*}\n",
    "    P(\\text{football}) = \\frac{18}{30} \\\\\n",
    "    P(\\text{basketball}) = \\frac{12}{30} \\\\\n",
    "    P(\\text{football} \\ \\cap \\ \\text{basketball}) = \\frac{6}{30} \\\\\n",
    "    P(\\text{football} \\ \\cup \\ \\text{basketball}) = \\frac{18}{30} + \\frac{12}{30} - \\frac{6}{30} \\\\\n",
    "    P(\\text{football} \\ \\cup \\ \\text{basketball}) = \\frac{30}{30} - \\frac{6}{30} \\\\\n",
    "    P(\\text{football} \\ \\cup \\ \\text{basketball}) = \\frac{24}{30} \\\\\n",
    "    P(\\text{football} \\ \\cup \\ \\text{basketball}) = \\frac{4}{5} \\\\\n",
    "    P(\\text{football} \\ \\cup \\ \\text{basketball}) = 0.8 \\\\\n",
    "    P(\\text{football} \\ \\cup \\ \\text{basketball}) = 0.8 \\cdot 100 \\\\\n",
    "    \\boxed{P(\\text{football} \\ \\cup \\ \\text{basketball}) = 80\\%}\n",
    "\\end{gather*}"
   ]
  }
 ],
 "metadata": {
  "language_info": {
   "name": "python"
  }
 },
 "nbformat": 4,
 "nbformat_minor": 5
}

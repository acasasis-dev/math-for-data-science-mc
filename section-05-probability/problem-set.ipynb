{
 "cells": [
  {
   "cell_type": "markdown",
   "id": "a839f917",
   "metadata": {},
   "source": [
    "## Problem Set: Probability"
   ]
  },
  {
   "cell_type": "markdown",
   "id": "d3011c58",
   "metadata": {},
   "source": [
    "> 1. Given $100$ coin tosses. $40$ show heads and $60$ show tails. Can you state that\n",
    "$P(\\text{heads}) = 0.4$?"
   ]
  },
  {
   "cell_type": "markdown",
   "id": "306b68da",
   "metadata": {},
   "source": [
    "> 2. How often would you need to throw the coin to be certain that $P(\\text{heads}) = 0.4$?\n",
    "How often if you just want to be “very sure”? What is the underlying rule?"
   ]
  },
  {
   "cell_type": "markdown",
   "id": "3b5101f2",
   "metadata": {},
   "source": [
    "> 3. You have $\\$10,000$ to invest in three companies.\n",
    "\n",
    "Company 1 yields $99\\%$ with a chance of $10\\%$.  \n",
    "Company 2 yields $10\\%$ $99\\%$ of the time.  \n",
    "Company 3 yields $1,000\\%$ $1\\%$ of the time.  \n",
    "\n",
    "a) What is the probability that all companies make profit?  \n",
    "b) What is the expected return of company 1 when investing $\\$10,000$?  \n",
    "c) What is the probability that no company makes profit?  \n",
    "d) What is the probability that only company 1 makes profit?  "
   ]
  },
  {
   "cell_type": "markdown",
   "id": "9fee72a3",
   "metadata": {},
   "source": [
    "> 4. A new virus is spreading! Already $10,000$ people are infected (out of $335,000,000$).\n",
    "Luckily, a new rapid test is available which has a true positive and true negative rate of $99\\%$.\n",
    "Unfortunately your test is positive now! What is the probability that you are infected?"
   ]
  }
 ],
 "metadata": {
  "language_info": {
   "name": "python"
  }
 },
 "nbformat": 4,
 "nbformat_minor": 5
}

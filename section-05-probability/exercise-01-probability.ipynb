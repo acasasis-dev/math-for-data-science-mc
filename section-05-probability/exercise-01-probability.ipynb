{
 "cells": [
  {
   "cell_type": "markdown",
   "id": "305f21dd",
   "metadata": {},
   "source": [
    "## Exercise 1: Probability"
   ]
  },
  {
   "cell_type": "markdown",
   "id": "1e62e1cc",
   "metadata": {},
   "source": [
    "> 1. A fair coin is tossed. What is the probability of getting **heads**?\n",
    "\n",
    "\\begin{gather*}\n",
    "    P(\\text{heads}) = \\frac{1}{2} \\\\\n",
    "    P(\\text{heads}) = 0.5 \\\\\n",
    "    P(\\text{heads}) = 0.5 \\cdot 100 \\\\\n",
    "    \\boxed{P(\\text{heads}) = 50\\%}\n",
    "\\end{gather*}"
   ]
  },
  {
   "cell_type": "markdown",
   "id": "1aea6efb",
   "metadata": {},
   "source": [
    "> 2. A fair die is rolled once. What is the probability of rolling a $5$?\n",
    "\n",
    "\\begin{gather*}\n",
    "    P(5) = \\frac{1}{6} \\\\\n",
    "    P(5) = 0.17 \\\\\n",
    "    P(5) = 0.17 \\cdot 100 \\\\\n",
    "    \\boxed{P(5) = 17\\%}\n",
    "\\end{gather*}"
   ]
  },
  {
   "cell_type": "markdown",
   "id": "5de2e9d5",
   "metadata": {},
   "source": [
    "> 3. A fair die is rolled once. What is the probability of rolling a number **less than 4**?\n",
    "\n",
    "\\begin{gather*}\n",
    "    P(x < 4) = \\frac{3}{6} \\\\\n",
    "    P(x < 4) = \\frac{1}{2} \\\\\n",
    "    P(x < 4) = 0.5 \\\\\n",
    "    P(x < 4) = 0.5 \\cdot 100 \\\\\n",
    "    \\boxed{P(x < 4) = 50\\%}\n",
    "\\end{gather*}"
   ]
  },
  {
   "cell_type": "markdown",
   "id": "df1c6c50",
   "metadata": {},
   "source": [
    "> 4. A fair die is rolled once. What is the probability that the result is **not a 6**?\n",
    "\n",
    "\\begin{gather*}\n",
    "    P(6') = 1 - P(6) \\\\\n",
    "    P(6) = \\frac{1}{6} \\\\\n",
    "    P(6) = 0.17 \\\\\n",
    "    P(6') = 1 - 0.17 \\\\\n",
    "    P(6') = 0.83 \\\\\n",
    "    P(6') = 0.83 \\cdot 100 \\\\\n",
    "    \\boxed{P(6') = 83\\%}\n",
    "\\end{gather*}"
   ]
  },
  {
   "cell_type": "markdown",
   "id": "ad256a9d",
   "metadata": {},
   "source": [
    "> 5. From a standard deck of $52$ cards, what is the probability of drawing a **spade**?\n",
    "\n",
    "\\begin{gather*}\n",
    "    P(\\text{spade}) = \\frac{13}{52} \\\\\n",
    "    P(\\text{spade}) = 0.25 \\\\\n",
    "    P(\\text{spade}) = 0.25 \\cdot 100 \\\\\n",
    "    \\boxed{P(\\text{spade}) = 25\\%}\n",
    "\\end{gather*}"
   ]
  },
  {
   "cell_type": "markdown",
   "id": "94d9c98f",
   "metadata": {},
   "source": [
    "> 6. From a standard deck of $52$ cards, what is the probability of drawing a **king**?\n",
    "\n",
    "\\begin{gather*}\n",
    "    P(\\text{king}) = \\frac{4}{52} \\\\\n",
    "    P(\\text{king}) = 0.08 \\\\\n",
    "    P(\\text{king}) = 0.08 \\cdot 100 \\\\\n",
    "    \\boxed{P(\\text{king}) = 8\\%}\n",
    "\\end{gather*}"
   ]
  },
  {
   "cell_type": "markdown",
   "id": "7d154102",
   "metadata": {},
   "source": [
    "> 7. A bag contains $5$ red marbles and $7$ blue marbles. If one marble is drawn at random, what is the probability it is **red**?"
   ]
  },
  {
   "cell_type": "markdown",
   "id": "c8afccf8",
   "metadata": {},
   "source": [
    "> 8. A bag contains $4$ green marbles and $6$ yellow marbles. If one marble is drawn at random, what is the probability it is **yellow**?"
   ]
  },
  {
   "cell_type": "markdown",
   "id": "ce76723e",
   "metadata": {},
   "source": [
    "> 9. A lottery machine has balls numbered from $1$ to $20$. One ball is drawn at random. What is the probability that the ball shows an **even number**?"
   ]
  }
 ],
 "metadata": {
  "language_info": {
   "name": "python"
  }
 },
 "nbformat": 4,
 "nbformat_minor": 5
}

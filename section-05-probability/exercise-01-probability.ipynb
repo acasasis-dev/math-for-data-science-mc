{
 "cells": [
  {
   "cell_type": "markdown",
   "id": "305f21dd",
   "metadata": {},
   "source": [
    "## Exercise 1: Probability"
   ]
  },
  {
   "cell_type": "markdown",
   "id": "1e62e1cc",
   "metadata": {},
   "source": [
    "> 1. A fair coin is tossed. What is the probability of getting **heads**?"
   ]
  },
  {
   "cell_type": "markdown",
   "id": "1aea6efb",
   "metadata": {},
   "source": [
    "> 2. A fair die is rolled once. What is the probability of rolling a $5$?"
   ]
  },
  {
   "cell_type": "markdown",
   "id": "5de2e9d5",
   "metadata": {},
   "source": [
    "> 3. A fair die is rolled once. What is the probability of rolling a number **less than 4**?"
   ]
  },
  {
   "cell_type": "markdown",
   "id": "df1c6c50",
   "metadata": {},
   "source": [
    "> 4. A fair die is rolled once. What is the probability that the result is **not a 6**?"
   ]
  },
  {
   "cell_type": "markdown",
   "id": "ad256a9d",
   "metadata": {},
   "source": [
    "> 5. From a standard deck of $52$ cards, what is the probability of drawing a **spade**?"
   ]
  },
  {
   "cell_type": "markdown",
   "id": "94d9c98f",
   "metadata": {},
   "source": [
    "> 6. From a standard deck of $52$ cards, what is the probability of drawing a **king**?"
   ]
  },
  {
   "cell_type": "markdown",
   "id": "7d154102",
   "metadata": {},
   "source": [
    "> 7. A bag contains $5$ red marbles and $7$ blue marbles. If one marble is drawn at random, what is the probability it is **red**?"
   ]
  },
  {
   "cell_type": "markdown",
   "id": "c8afccf8",
   "metadata": {},
   "source": [
    "> 8. A bag contains $4$ green marbles and $6$ yellow marbles. If one marble is drawn at random, what is the probability it is **yellow**?"
   ]
  },
  {
   "cell_type": "markdown",
   "id": "ce76723e",
   "metadata": {},
   "source": [
    "> 9. A lottery machine has balls numbered from $1$ to $20$. One ball is drawn at random. What is the probability that the ball shows an **even number**?"
   ]
  }
 ],
 "metadata": {
  "language_info": {
   "name": "python"
  }
 },
 "nbformat": 4,
 "nbformat_minor": 5
}

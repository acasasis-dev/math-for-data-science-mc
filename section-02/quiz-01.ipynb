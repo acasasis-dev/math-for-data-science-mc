{
 "cells": [
  {
   "cell_type": "markdown",
   "id": "4205acd1",
   "metadata": {},
   "source": [
    "## Quiz 1: Central Tendency"
   ]
  },
  {
   "cell_type": "markdown",
   "id": "44c3c484",
   "metadata": {},
   "source": [
    "Just one quick question to check that you understood the previous material, this should be fairly easy for you based on the last lecture.\n",
    "\n",
    "The Apple corporation makes the iPad tablet in a variety of form factors (iPad Mini, iPad Pro, iPad Air, etc..) with many different configuration options and generations, allowing for a range of possible prices depending on model and configuration.\n",
    "\n",
    "Given this dataset of Apple iPad prices in dollars:\n",
    "\n",
    "\\begin{gather*}\n",
    "    [329, 479, 459, 269, 369, 799, 649] \\\\ \\\\\n",
    "\\end{gather*}\n",
    "\n",
    "What is the **median** price for an Apple iPad?\n",
    "\n",
    "\\begin{gather*}\n",
    "    269, 329, 369, 459, 479, 649, 799 \\\\\n",
    "    7 \\div 2 = \\lceil3.5\\rceil = 4 \\\\\n",
    "    4\\text{th} = \\boxed{459}\n",
    "\\end{gather*}"
   ]
  }
 ],
 "metadata": {
  "language_info": {
   "name": "python"
  }
 },
 "nbformat": 4,
 "nbformat_minor": 5
}

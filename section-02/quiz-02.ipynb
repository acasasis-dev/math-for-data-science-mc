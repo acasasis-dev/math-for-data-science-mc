{
 "cells": [
  {
   "cell_type": "markdown",
   "id": "5f58ced5",
   "metadata": {},
   "source": [
    "## Quiz 2: Measurements of Dispersion"
   ]
  },
  {
   "cell_type": "markdown",
   "id": "a76f236d",
   "metadata": {},
   "source": [
    "You just got hired as a manufacturer designer for Apple and are working on the bands for their watches. A band for a watch comes in two pieces, the top piece and the bottom piece, each piece is attached separately to the watch and then joined together when a user puts the watch on their wrist.  The top and bottom pieces are created in batches at a factory owned by FoxConn. A very important factor in creating the bands is to make sure that their lengths of both sides are uniform, otherwise the latching won't work when trying to put it on a wrist. Apple has instituted a quality control check based on the standard deviation of each batch of bands produced.\n",
    "\n",
    "Two batches of top pieces and bottom pieces have just come off the assembly line at FoxConn. Currently Apple's quality controls don't allow for any more than 0.1mm in standard deviation in batches of either the top pieces or the bottom pieces.\n",
    "\n",
    "Here are the measurements for the group of top pieces in mm:\n",
    "\n",
    "\\begin{gather*}\n",
    "    [220.1,220.0,220.0,220.2,220.1]\n",
    "\\end{gather*}\n",
    "\n",
    "Here are the measurements for the group of bottom pieces:\n",
    "\n",
    "\\begin{gather*}\n",
    "    [220.1,220.4,220.2,220.0,220.1]\n",
    "\\end{gather*}\n",
    "\n",
    "Do these batches of top and bottom pieces pass quality control?"
   ]
  }
 ],
 "metadata": {
  "language_info": {
   "name": "python"
  }
 },
 "nbformat": 4,
 "nbformat_minor": 5
}

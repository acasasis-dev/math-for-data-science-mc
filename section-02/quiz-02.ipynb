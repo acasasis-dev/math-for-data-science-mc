{
 "cells": [
  {
   "cell_type": "markdown",
   "id": "5f58ced5",
   "metadata": {},
   "source": [
    "## Quiz 2: Measurements of Dispersion"
   ]
  },
  {
   "cell_type": "markdown",
   "id": "a76f236d",
   "metadata": {},
   "source": [
    "You just got hired as a manufacturer designer for Apple and are working on the bands for their watches. A band for a watch comes in two pieces, the top piece and the bottom piece, each piece is attached separately to the watch and then joined together when a user puts the watch on their wrist.  The top and bottom pieces are created in batches at a factory owned by FoxConn. A very important factor in creating the bands is to make sure that their lengths of both sides are uniform, otherwise the latching won't work when trying to put it on a wrist. Apple has instituted a quality control check based on the standard deviation of each batch of bands produced.\n",
    "\n",
    "Two batches of top pieces and bottom pieces have just come off the assembly line at FoxConn. Currently Apple's quality controls don't allow for any more than $0.1\\text{mm}$ in standard deviation in batches of either the top pieces or the bottom pieces.\n",
    "\n",
    "Here are the measurements for the group of top pieces in mm:\n",
    "\n",
    "\\begin{gather*}\n",
    "    [220.1,220.0,220.0,220.2,220.1]\n",
    "\\end{gather*}\n",
    "\n",
    "Here are the measurements for the group of bottom pieces:\n",
    "\n",
    "\\begin{gather*}\n",
    "    [220.1,220.4,220.2,220.0,220.1]\n",
    "\\end{gather*}\n",
    "\n",
    "Do these batches of top and bottom pieces pass quality control?"
   ]
  },
  {
   "cell_type": "markdown",
   "id": "7f36173a",
   "metadata": {},
   "source": [
    "\\begin{gather*}\n",
    "    \\overline{x} = \\frac{\\sum\\limits^{n}_{i=1} x_i}{n} \\\\\n",
    "    \\overline{x}_{top} = \\frac{220.1 + 220.0 + 220.0 + 220.2 + 220.1}{5} \\\\\n",
    "    \\overline{x}_{top} = \\frac{1100.4}{5} \\\\\n",
    "    \\overline{x}_{top} = 220.08 \\\\\n",
    "    \\overline{x}_{bottom} = \\frac{220.1 + 220.4 + 220.2 + 220.0 + 220.1}{n} \\\\\n",
    "    \\overline{x}_{bottom} = \\frac{1100.8}{5} \\\\\n",
    "    \\overline{x}_{bottom} = 220.16 \\\\ \\\\\n",
    "\n",
    "    s^2 = \\frac{\\sum\\limits^{n}_{i=1} (x_i - \\overline{x})^2}{n - 1} \\\\\n",
    "    s^2_{top} = \\frac{(220.1 - 220.08)^2 + (220.0 - 220.08)^2 + (220.0 - 220.08)^2 + (220.2 - 220.08)^2 + (220.1 - 220.08)^2}{5 - 1} \\\\\n",
    "    s^2_{top} = \\frac{(0.02)^2 + (-0.08)^2 + (-0.08)^2 + (0.12)^2 + (0.02)^2}{4} \\\\\n",
    "    s^2_{top} = \\frac{0.0004 + 0.0064 + 0.0064 + 0.0144 + 0.0004}{4} \\\\\n",
    "    s^2_{top} = \\frac{0.028}{4} \\\\\n",
    "    s^2_{top} = 0.007 \\\\\n",
    "    s^2_{bottom} = \\frac{(220.1 - 220.16)^2 + (220.4 - 220.16)^2 + (220.2 - 220.16)^2 + (220.0 - 220.16)^2 + (220.1 - 220.16)^2}{5 - 1} \\\\\n",
    "    s^2_{bottom} = \\frac{(-0.06)^2 + (0.24)^2 + (0.04)^2 + (-0.16)^2 + (-0.06)^2}{4} \\\\\n",
    "    s^2_{bottom} = \\frac{0.0036 + 0.0576 + 0.0016 + 0.0256 + 0.0036}{4} \\\\\n",
    "    s^2_{bottom} = \\frac{0.092}{4} \\\\\n",
    "    s^2_{bottom} = 0.023 \\\\ \\\\\n",
    "\n",
    "    s = \\sqrt{s^2} \\\\\n",
    "    s_{top} = \\sqrt{0.007} \\\\\n",
    "    s_{top} = 0.084 \\\\\n",
    "    s_{bottom} = \\sqrt{0.023} \\\\\n",
    "    s_{bottom} = 0.151\n",
    "\\end{gather*}"
   ]
  },
  {
   "cell_type": "markdown",
   "id": "5907639e",
   "metadata": {},
   "source": []
  }
 ],
 "metadata": {
  "language_info": {
   "name": "python"
  }
 },
 "nbformat": 4,
 "nbformat_minor": 5
}

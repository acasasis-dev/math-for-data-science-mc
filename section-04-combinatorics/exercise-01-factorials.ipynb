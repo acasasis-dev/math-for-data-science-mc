{
 "cells": [
  {
   "cell_type": "markdown",
   "id": "0f573724",
   "metadata": {},
   "source": [
    "## Exercise 1: Factorials"
   ]
  },
  {
   "cell_type": "markdown",
   "id": "32d8503c",
   "metadata": {},
   "source": [
    "> 1. Compute $4!$"
   ]
  },
  {
   "cell_type": "markdown",
   "id": "cde26e0a",
   "metadata": {},
   "source": [
    "> 2. Write $6!$ as a product of integers(do not evaluate)."
   ]
  },
  {
   "cell_type": "markdown",
   "id": "0ffbb6a2",
   "metadata": {},
   "source": [
    "> 3. Simplify $\\frac{7!}{5!}$"
   ]
  },
  {
   "cell_type": "markdown",
   "id": "14cfae63",
   "metadata": {},
   "source": [
    "> 4. Simply $3! \\times 4!$."
   ]
  },
  {
   "cell_type": "markdown",
   "id": "2387c1c8",
   "metadata": {},
   "source": [
    "> 5. Compute $6! - 5!$."
   ]
  },
  {
   "cell_type": "markdown",
   "id": "0aec52ff",
   "metadata": {},
   "source": [
    "> 6. Compute $4! + 3!$"
   ]
  },
  {
   "cell_type": "markdown",
   "id": "c61fd497",
   "metadata": {},
   "source": [
    "> 7. Simplify $\\frac{(n + 2)!}{(n + 1)!}$"
   ]
  },
  {
   "cell_type": "markdown",
   "id": "b6aa9a9c",
   "metadata": {},
   "source": [
    "> 8. Simplify $\\frac{5! \\times 3!}{4!}$"
   ]
  },
  {
   "cell_type": "markdown",
   "id": "fdcfb980",
   "metadata": {},
   "source": [
    "> 9. A line of $5$ students is to be arranged for a photo. Express the number of possible arrangements in factorial form, then evaluate."
   ]
  }
 ],
 "metadata": {
  "language_info": {
   "name": "python"
  }
 },
 "nbformat": 4,
 "nbformat_minor": 5
}

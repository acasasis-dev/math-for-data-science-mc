{
 "cells": [
  {
   "cell_type": "markdown",
   "id": "79f1029a",
   "metadata": {},
   "source": [
    "## Exercise 3: Combinations"
   ]
  },
  {
   "cell_type": "markdown",
   "id": "ce447ac1",
   "metadata": {},
   "source": [
    "> 1. Compute ${}_5C_2$ that allows no repetition"
   ]
  },
  {
   "cell_type": "markdown",
   "id": "1ca26622",
   "metadata": {},
   "source": [
    "> 2. Compute ${}_5H_2$ that allows repetition. Here ${}_nH_r$ denotes **combinations with repeition:** ${}_{n + r - 1}C_r$."
   ]
  },
  {
   "cell_type": "markdown",
   "id": "ae618e5e",
   "metadata": {},
   "source": [
    "> 3. Simplify $\\frac{7!}{(7 - 3)! \\cdot 3!}$"
   ]
  },
  {
   "cell_type": "markdown",
   "id": "5ffe65c1",
   "metadata": {},
   "source": [
    "> 4. Write the formula for ${}_nC_r$"
   ]
  },
  {
   "cell_type": "markdown",
   "id": "3d01a5dc",
   "metadata": {},
   "source": [
    "> 5. Write the formula for ${}_nH_r$"
   ]
  },
  {
   "cell_type": "markdown",
   "id": "81a64435",
   "metadata": {},
   "source": [
    "> 6. A committee of $4$ is to be chosen from $10$ people. How many possible committees can be formed?"
   ]
  },
  {
   "cell_type": "markdown",
   "id": "6b137ba6",
   "metadata": {},
   "source": [
    "> 7. An ice cream shop offers $5$ flavors. You can choose $3$ scoops, with flavors allowed to repeat. In how many ways can you choose your scoops?"
   ]
  },
  {
   "cell_type": "markdown",
   "id": "7c7775d0",
   "metadata": {},
   "source": [
    "> 8. A lottery requires choosing $6$ numbers out of $49$, order does not matter. How many possible tickets exist?"
   ]
  },
  {
   "cell_type": "markdown",
   "id": "0884338c",
   "metadata": {},
   "source": [
    "> 9. You have $4$ identical coins to distribute among $3$ children. In how many ways can the coins be distributed?"
   ]
  }
 ],
 "metadata": {
  "language_info": {
   "name": "python"
  }
 },
 "nbformat": 4,
 "nbformat_minor": 5
}

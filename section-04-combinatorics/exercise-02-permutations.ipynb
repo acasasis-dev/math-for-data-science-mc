{
 "cells": [
  {
   "cell_type": "markdown",
   "id": "041812a9",
   "metadata": {},
   "source": [
    "## Exercise 2: Permutations"
   ]
  },
  {
   "cell_type": "markdown",
   "id": "593be13a",
   "metadata": {},
   "source": [
    "> 1. Compute ${}_5P_2$\n",
    "\n",
    "\\begin{gather*}\n",
    "    {}_5P_2 = \\frac{5!}{(5 - 2)!} \\\\\n",
    "    {}_5P_2 = \\frac{5!}{3!} \\\\\n",
    "    {}_5P_2 = \\frac{5 \\cdot 4 \\cdot 3!}{3!} \\\\\n",
    "    {}_5P_2 = \\frac{5 \\cdot 4 \\cdot \\cancel{3!}}{\\cancel{3!}} \\\\\n",
    "    {}_5P_2 = 5 \\cdot 4 \\\\\n",
    "    \\boxed{{}_5P_2 = 20}\n",
    "\\end{gather*}"
   ]
  },
  {
   "cell_type": "markdown",
   "id": "ffbbcf7e",
   "metadata": {},
   "source": [
    "> 2. Compute ${}_6P_3$\n",
    "\n",
    "\\begin{gather*}\n",
    "    {}_6P_3 = \\frac{6!}{(6 - 3)!} \\\\\n",
    "    {}_6P_3 = \\frac{6!}{3!} \\\\\n",
    "    {}_6P_3 = \\frac{6 \\cdot 5 \\cdot 4 \\cdot 3!}{3!} \\\\\n",
    "    {}_6P_3 = \\frac{6 \\cdot 5 \\cdot 4 \\cdot \\cancel{3!}}{\\cancel{3!}} \\\\\n",
    "    {}_6P_3 = 6 \\cdot 5 \\cdot 4 \\\\\n",
    "    {}_6P_3 = 30 \\cdot 4 \\\\\n",
    "    \\boxed{{}_6P_3 = 120}\n",
    "\\end{gather*}"
   ]
  },
  {
   "cell_type": "markdown",
   "id": "b15edfc0",
   "metadata": {},
   "source": [
    "> 3. Simplify $\\frac{7!}{(7 - 4)!}$\n",
    "\n",
    "\\begin{gather*}\n",
    "    \\frac{7!}{(7 - 4)!} \\\\\n",
    "    \\frac{7!}{3!} \\\\\n",
    "    \\frac{7 \\cdot 6 \\cdot 5 \\cdot 4 \\cdot 3!}{3!} \\\\\n",
    "    \\frac{7 \\cdot 6 \\cdot 5 \\cdot 4 \\cdot \\cancel{3!}}{\\cancel{3!}} \\\\\n",
    "    7 \\cdot 6 \\cdot 5 \\cdot 4 \\\\\n",
    "    42 \\cdot 5 \\cdot 4 \\\\\n",
    "    42 \\cdot 20 \\\\\n",
    "    \\boxed{840}\n",
    "\\end{gather*}"
   ]
  },
  {
   "cell_type": "markdown",
   "id": "96f7a18f",
   "metadata": {},
   "source": [
    "> 4. Write the general formula for ${}_nP_r{}$\n",
    "\n",
    "The general formula for ${}_nP_r$ is $\\frac{n}{(n - r)!}$"
   ]
  },
  {
   "cell_type": "markdown",
   "id": "ee686d40",
   "metadata": {},
   "source": [
    "> 5. Compute $\\frac{8!}{(8 - 2)!}$\n",
    "\n",
    "\\begin{gather*}\n",
    "    \\frac{8!}{(8 - 2)!} \\\\\n",
    "    \\frac{8!}{6!} \\\\\n",
    "    \\frac{8 \\cdot 7 \\cdot 6!}{6!} \\\\\n",
    "    \\frac{8 \\cdot 7 \\cdot \\cancel{6!}}{\\cancel{6!}} \\\\\n",
    "    8 \\cdot 7 \\\\\n",
    "    \\boxed{56}\n",
    "\\end{gather*}"
   ]
  },
  {
   "cell_type": "markdown",
   "id": "27df4c25",
   "metadata": {},
   "source": [
    "> 6. How many ways can $4$ students be arranged in a line from a group of $10$ students?\n",
    "\n",
    "\\begin{gather*}\n",
    "    {}_{10}P_4 = \\frac{10!}{(10 - 4)!} \\\\\n",
    "    {}_{10}P_4 = \\frac{10!}{6!} \\\\\n",
    "    {}_{10}P_4 = \\frac{10 \\cdot 9 \\cdot 8 \\cdot 7 \\cdot 6!}{6!} \\\\\n",
    "    {}_{10}P_4 = \\frac{10 \\cdot 9 \\cdot 8 \\cdot 7 \\cdot \\cancel{6!}}{\\cancel{6!}} \\\\\n",
    "    {}_{10}P_4 = 10 \\cdot 9 \\cdot 8 \\cdot 7 \\\\\n",
    "    {}_{10}P_4 = 90 \\cdot 56 \\\\\n",
    "    \\boxed{{}_{10}P_4 = 5040}\n",
    "\\end{gather*}"
   ]
  },
  {
   "cell_type": "markdown",
   "id": "b63abe0e",
   "metadata": {},
   "source": [
    "> 7. In how many different ways can $5$ people sit in a row of $8$ chairs?\n",
    "\n",
    "\\begin{gather*}\n",
    "    {}_8P_5 = \\frac{8!}{(8 - 5)!} \\\\\n",
    "    {}_8P_5 = \\frac{8!}{3!} \\\\\n",
    "    {}_8P_5 = \\frac{8 \\cdot 7 \\cdot 6 \\cdot 5 \\cdot 4 \\cdot 3!}{3!} \\\\\n",
    "    {}_8P_5 = \\frac{8 \\cdot 7 \\cdot 6 \\cdot 5 \\cdot 4 \\cdot \\cancel{3!}}{\\cancel{3!}} \\\\\n",
    "    {}_8P_5 = 8 \\cdot 7 \\cdot 6 \\cdot 5 \\cdot 4 \\\\\n",
    "    {}_8P_5 = 56 \\cdot 6 \\cdot 5 \\cdot 4 \\\\\n",
    "    {}_8P_5 = 336 \\cdot 5 \\cdot 4 \\\\\n",
    "    {}_8P_5 = 1680 \\cdot 4 \\\\\n",
    "    \\boxed{{}_8P_5 = 6720}\n",
    "\\end{gather*}"
   ]
  },
  {
   "cell_type": "markdown",
   "id": "a4706f92",
   "metadata": {},
   "source": [
    "> 8. How many $3$ -digit numbers can be formed using the digits $1,2,3,4,5$ without repetition?\n",
    "\n",
    "\\begin{gather*}\n",
    "    {}_5P_3 = \\frac{5!}{(5 - 3)!} \\\\\n",
    "    {}_5P_3 = \\frac{5!}{2!} \\\\\n",
    "    {}_5P_3 = \\frac{5 \\cdot 4 \\cdot 3 \\cdot 2!}{2!} \\\\\n",
    "    {}_5P_3 = \\frac{5 \\cdot 4 \\cdot 3 \\cdot \\cancel{2!}}{\\cancel{2!}} \\\\\n",
    "    {}_5P_3 = 5 \\cdot 4 \\cdot 3 \\\\\n",
    "    {}_5P_3 = 20 \\cdot 3 \\\\\n",
    "    \\boxed{{}_5P_3 = 60}\n",
    "\\end{gather*}"
   ]
  },
  {
   "cell_type": "markdown",
   "id": "92260dc7",
   "metadata": {},
   "source": [
    "> 9. How many ways can the letters of the word **“MATH”** be arranged?\n",
    "\n",
    "\\begin{gather*}\n",
    "    {}_4P_4 = \\frac{4!}{(4 - 4)!} \\\\\n",
    "    {}_4P_4 = \\frac{4!}{0!} \\\\\n",
    "    {}_4P_4 = \\frac{4!}{1} \\\\\n",
    "    {}_4P_4 = 4! \\\\\n",
    "    {}_4P_4 = 4 \\cdot 3 \\cdot 2 \\cdot 1 \\\\\n",
    "    {}_4P_4 = 12 \\cdot 2 \\\\\n",
    "    \\boxed{{}_4P_4 = 24}\n",
    "\\end{gather*}"
   ]
  }
 ],
 "metadata": {
  "language_info": {
   "name": "python"
  }
 },
 "nbformat": 4,
 "nbformat_minor": 5
}

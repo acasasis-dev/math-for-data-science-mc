{
 "cells": [
  {
   "cell_type": "markdown",
   "id": "041812a9",
   "metadata": {},
   "source": [
    "## Exercise 2: Permutations"
   ]
  },
  {
   "cell_type": "markdown",
   "id": "593be13a",
   "metadata": {},
   "source": [
    "> 1. Compute ${}_5P_2$\n",
    "\n",
    "\\begin{gather*}\n",
    "    {}_5P_2 = \\frac{5!}{(5 - 2)!} \\\\\n",
    "    {}_5P_2 = \\frac{5!}{3!} \\\\\n",
    "    {}_5P_2 = \\frac{5 \\cdot 4 \\cdot 3!}{3!} \\\\\n",
    "    {}_5P_2 = \\frac{5 \\cdot 4 \\cdot \\cancel{3!}}{\\cancel{3!}} \\\\\n",
    "    {}_5P_2 = 5 \\cdot 4 \\\\\n",
    "    \\boxed{{}_5P_2 = 20}\n",
    "\\end{gather*}"
   ]
  },
  {
   "cell_type": "markdown",
   "id": "ffbbcf7e",
   "metadata": {},
   "source": [
    "> 2. Compute ${}_6P_3$\n",
    "\n",
    "\\begin{gather*}\n",
    "    {}_6P_3 = \\frac{6!}{(6 - 3)!} \\\\\n",
    "    {}_6P_3 = \\frac{6!}{3!} \\\\\n",
    "    {}_6P_3 = \\frac{6 \\cdot 5 \\cdot 4 \\cdot 3!}{3!} \\\\\n",
    "    {}_6P_3 = \\frac{6 \\cdot 5 \\cdot 4 \\cdot \\cancel{3!}}{\\cancel{3!}} \\\\\n",
    "    {}_6P_3 = 6 \\cdot 5 \\cdot 4 \\\\\n",
    "    {}_6P_3 = 30 \\cdot 4 \\\\\n",
    "    \\boxed{{}_6P_3 = 120}\n",
    "\\end{gather*}"
   ]
  },
  {
   "cell_type": "markdown",
   "id": "b15edfc0",
   "metadata": {},
   "source": [
    "> 3. Simplify $\\frac{7!}{(7 - 4)!}$\n",
    "\n",
    "\\begin{gather*}\n",
    "    \\frac{7!}{(7 - 4)!} \\\\\n",
    "    \\frac{7!}{3!} \\\\\n",
    "    \\frac{7 \\cdot 6 \\cdot 5 \\cdot 4 \\cdot 3!}{3!} \\\\\n",
    "    \\frac{7 \\cdot 6 \\cdot 5 \\cdot 4 \\cdot \\cancel{3!}}{\\cancel{3!}} \\\\\n",
    "    7 \\cdot 6 \\cdot 5 \\cdot 4 \\\\\n",
    "    42 \\cdot 5 \\cdot 4 \\\\\n",
    "    42 \\cdot 20 \\\\\n",
    "    \\boxed{840}\n",
    "\\end{gather*}"
   ]
  },
  {
   "cell_type": "markdown",
   "id": "132ea6f0",
   "metadata": {},
   "source": [
    "> 4. Write the general formula for ${}_nP_r{}$"
   ]
  },
  {
   "cell_type": "markdown",
   "id": "71145179",
   "metadata": {},
   "source": [
    "> 5. Compute $\\frac{8!}{(8 - 2)!}$"
   ]
  },
  {
   "cell_type": "markdown",
   "id": "ca3ab240",
   "metadata": {},
   "source": [
    "> 6. How many ways can $4$ students be arranged in a line from a group of $10$ students?"
   ]
  },
  {
   "cell_type": "markdown",
   "id": "b63abe0e",
   "metadata": {},
   "source": [
    "> 7. In how many different ways can $5$ people sit in a row of $8$ chairs?"
   ]
  },
  {
   "cell_type": "markdown",
   "id": "a4706f92",
   "metadata": {},
   "source": [
    "> 8. How many $3$ -digit numbers can be formed using the digits $1,2,3,4,5$ without repetition?"
   ]
  },
  {
   "cell_type": "markdown",
   "id": "92260dc7",
   "metadata": {},
   "source": [
    "> 9. How many ways can the letters of the word **“MATH”** be arranged?"
   ]
  }
 ],
 "metadata": {
  "language_info": {
   "name": "python"
  }
 },
 "nbformat": 4,
 "nbformat_minor": 5
}

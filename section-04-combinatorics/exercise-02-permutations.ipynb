{
 "cells": [
  {
   "cell_type": "markdown",
   "id": "041812a9",
   "metadata": {},
   "source": [
    "## Exercise 2: Permutations"
   ]
  },
  {
   "cell_type": "markdown",
   "id": "593be13a",
   "metadata": {},
   "source": [
    "> 1. Compute ${}_5P_2$"
   ]
  },
  {
   "cell_type": "markdown",
   "id": "ffbbcf7e",
   "metadata": {},
   "source": [
    "> 2. Compute ${}_6P_3$"
   ]
  },
  {
   "cell_type": "markdown",
   "id": "b15edfc0",
   "metadata": {},
   "source": [
    "> 3. Simplify $\\frac{7!}{(7 - 4)!}$"
   ]
  },
  {
   "cell_type": "markdown",
   "id": "132ea6f0",
   "metadata": {},
   "source": [
    "> 4. Write the general formula for ${}_nP_r{}$"
   ]
  },
  {
   "cell_type": "markdown",
   "id": "71145179",
   "metadata": {},
   "source": [
    "> 5. Compute $\\frac{8!}{(8 - 2)!}$"
   ]
  },
  {
   "cell_type": "markdown",
   "id": "ca3ab240",
   "metadata": {},
   "source": [
    "> 6. How many ways can $4$ students be arranged in a line from a group of $10$ students?"
   ]
  },
  {
   "cell_type": "markdown",
   "id": "b63abe0e",
   "metadata": {},
   "source": [
    "> 7. In how many different ways can $5$ people sit in a row of $8$ chairs?"
   ]
  },
  {
   "cell_type": "markdown",
   "id": "a4706f92",
   "metadata": {},
   "source": [
    "> 8. How many $3$ -digit numbers can be formed using the digits $1,2,3,4,5$ without repetition?"
   ]
  },
  {
   "cell_type": "markdown",
   "id": "92260dc7",
   "metadata": {},
   "source": [
    "> 9. How many ways can the letters of the word **“MATH”** be arranged?"
   ]
  }
 ],
 "metadata": {
  "language_info": {
   "name": "python"
  }
 },
 "nbformat": 4,
 "nbformat_minor": 5
}

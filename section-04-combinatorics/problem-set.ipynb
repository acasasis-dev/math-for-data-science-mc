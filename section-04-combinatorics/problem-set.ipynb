{
 "cells": [
  {
   "cell_type": "markdown",
   "id": "2c839d6c",
   "metadata": {},
   "source": [
    "## Problem Set"
   ]
  },
  {
   "cell_type": "markdown",
   "id": "8e461001",
   "metadata": {},
   "source": [
    "> 1. You have to solve $5$ tasks in parallel and have $5$ engineers at your\n",
    "disposal. Each engineer can only work on one task. How many possibilities are\n",
    "there to distribute the tasks?"
   ]
  },
  {
   "cell_type": "markdown",
   "id": "bf011afc",
   "metadata": {},
   "source": [
    "> 2. In how many ways can you arrange a card deck of $32$ cards?"
   ]
  },
  {
   "cell_type": "markdown",
   "id": "dd1e552c",
   "metadata": {},
   "source": [
    "> 3. You want to extend your company with two new locations. There\n",
    "are $5$ possible spots available. However, due to the current material shortage,\n",
    "you can only build one at the time. How many possibilities exist to build\n",
    "the two offices?"
   ]
  },
  {
   "cell_type": "markdown",
   "id": "2e00b945",
   "metadata": {},
   "source": [
    "> 4. You have $6$ new features for your website and want to compare\n",
    "them against each other using A/B testing. How many iterations do you need\n",
    "to run?"
   ]
  },
  {
   "cell_type": "markdown",
   "id": "b49830c6",
   "metadata": {},
   "source": [
    "> 5. You want to find a secure password, consisting of the letters\n",
    "$[a-z], [A-Z]$, and digits $0-9$. Imagine a modern computer which can test 1 billion\n",
    "passwords a second. How many characters should your password have so that\n",
    "the attacker would need at least a year to guess it?"
   ]
  }
 ],
 "metadata": {
  "language_info": {
   "name": "python"
  }
 },
 "nbformat": 4,
 "nbformat_minor": 5
}

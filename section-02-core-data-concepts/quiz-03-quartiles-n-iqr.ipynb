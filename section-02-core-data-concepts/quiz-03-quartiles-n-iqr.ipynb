{
 "cells": [
  {
   "cell_type": "markdown",
   "id": "9ed1c824",
   "metadata": {},
   "source": [
    "## Quiz 3: Quartiles and IQR"
   ]
  },
  {
   "cell_type": "markdown",
   "id": "5888ee27",
   "metadata": {},
   "source": [
    "A business is trying to analyze its sales data from the past year. The data shows the amount of money made from each sale, sorted in ascending order. The business wants to find the three points that divide the dataset into four equal parts, in order to better understand the distribution of its sales. The data in USD is shown below:\n",
    "\n",
    "\\begin{gather*}\n",
    "    [10, 12, 15, 18, 20, 21, 22, 24, 25, 27, 28, 30, 32, 35, 38, 40, 42, 45, 50]\n",
    "\\end{gather*}\n",
    "\n",
    "What is the Interquartile Range for this data set?\n",
    "\n",
    "The length of the data is $19$ which means we can easily get the median by dividing this length by $2$ and get its' roof/ceiling.\n",
    "\n",
    "\\begin{gather*}\n",
    "    \\lceil 19 \\div 2 \\rceil = \\lceil 8.5 \\rceil = 9\n",
    "\\end{gather*}\n",
    "\n",
    "This mean that the median of the data is the $9\\text{th}$ index which is $25$\n"
   ]
  }
 ],
 "metadata": {
  "language_info": {
   "name": "python"
  }
 },
 "nbformat": 4,
 "nbformat_minor": 5
}

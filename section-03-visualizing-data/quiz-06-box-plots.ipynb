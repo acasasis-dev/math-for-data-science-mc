{
 "cells": [
  {
   "cell_type": "markdown",
   "id": "14103fff",
   "metadata": {},
   "source": [
    "## Quiz 6: Box Plots"
   ]
  },
  {
   "cell_type": "markdown",
   "id": "96535065",
   "metadata": {},
   "source": [
    "A company is using a box and whisker plot to compare the distribution of sale prices of two different products. What do the lines inside the middle of the boxes represent?"
   ]
  },
  {
   "cell_type": "markdown",
   "id": "abd42bcb",
   "metadata": {},
   "source": [
    "The median"
   ]
  }
 ],
 "metadata": {
  "language_info": {
   "name": "python"
  }
 },
 "nbformat": 4,
 "nbformat_minor": 5
}
